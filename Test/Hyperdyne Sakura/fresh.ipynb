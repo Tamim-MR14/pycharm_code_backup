{
 "cells": [
  {
   "cell_type": "code",
   "execution_count": 1,
   "metadata": {
    "scrolled": true
   },
   "outputs": [
    {
     "name": "stdout",
     "output_type": "stream",
     "text": [
      "638.355769231\n"
     ]
    },
    {
     "data": {
      "image/png": "[encoded data removed]",
      "text/plain": [
       "<matplotlib.figure.Figure at 0x23a5ef73208>"
      ]
     },
     "metadata": {},
     "output_type": "display_data"
    },
    {
     "name": "stdout",
     "output_type": "stream",
     "text": [
      "The 600 rule shoud not be used\n"
     ]
    }
   ],
   "source": [
    "\n",
    "##Problem 1-1\n",
    "def isleapyear(year):\n",
    "    if ((((year%4)==0) and ((year%100) != 0)) or ((year%400) ==0)):\n",
    "        return True\n",
    "    else:\n",
    "        return False\n",
    "         \n",
    "import pandas as pd\n",
    "import numpy as np\n",
    "import matplotlib.pyplot as plt\n",
    "from sklearn import metrics\n",
    "\n",
    "tyear=[]\n",
    "df=pd.read_csv(\"modified tokyo.csv\")\n",
    "j=31\n",
    "summaxtemp=[] #array containing the summation of daily max temmp until bloom date of the training years\n",
    "\n",
    "\n",
    "for i in range(1961,2018):\n",
    "    \n",
    "    #Skipping the test years\n",
    "    if i in [1966,1971,1985,1994,2008]:\n",
    "        if isleapyear(i):\n",
    "            j=j+366\n",
    "        else:\n",
    "            j=j+365\n",
    "        continue\n",
    "        \n",
    "        \n",
    "    #locating the bloom date of a particular training year\n",
    "    bdi=df.loc[(df['year'] == i) & df['bloom'].isin([1])].index.tolist()\n",
    "    tsum=0\n",
    "    k=j\n",
    "    \n",
    "    #Summing the daily max temperature until bloom date of a training year\n",
    "    while k<=bdi[0]:\n",
    "        tsum=tsum+df.iloc[k,10]\n",
    "        k=k+1\n",
    "        tsum\n",
    "    summaxtemp.append(tsum)\n",
    "\n",
    "    if isleapyear(i):\n",
    "        j=j+366\n",
    "    else:\n",
    "        j=j+365\n",
    "    tyear.append(i)\n",
    "    \n",
    "    \n",
    "\n",
    "meansummaxtemp=np.mean(summaxtemp)\n",
    "print(meansummaxtemp)\n",
    "plt.plot(tyear,summaxtemp) \n",
    "plt.ylabel(\"Sum of daily maximum Temperature in ($^\\circ$C)\")\n",
    "plt.xlabel(\"Training Year\")\n",
    "plt.show()\n",
    "\n",
    "\n",
    "if meansummaxtemp==600:\n",
    "    print(\"The 600 rule should be used\")\n",
    "else:\n",
    "    print(\"The 600 rule shoud not be used\")"
   ]
  },
  {
   "cell_type": "code",
   "execution_count": 12,
   "metadata": {},
   "outputs": [
    {
     "name": "stdout",
     "output_type": "stream",
     "text": [
      "The actual bloom dates extracted from the data are [79, 89, 93, 90, 82]\n",
      "The predicted Bloom Dates values using Tmean [82, 88, 91, 90, 85]\n",
      "The R² value using Tmean is: 0.832361516035\n",
      "The predicted Bloom Dates values using 600°C  [79, 86, 88, 87, 83]\n",
      "The R² value using 600°C rule is: 0.679300291545\n"
     ]
    }
   ],
   "source": [
    "#problem 1-2\n",
    "pbd=[]\n",
    "abd=[]\n",
    "for i in [1966,1971,1985,1994,2008]:\n",
    "    df2=df.loc[df['year'] == i]\n",
    "    df2.index=range(len(df2))\n",
    "    j=31\n",
    "    tsum=0\n",
    "    bdi=df2.loc[df2['bloom'].isin([1])].index.tolist()\n",
    "    abd.append(bdi[0]+1)\n",
    "    while tsum<=meansummaxtemp:\n",
    "        tsum=tsum+df2.iloc[j,10]\n",
    "        j=j+1\n",
    "    pbd.append(j)\n",
    "    \n",
    "print('The actual bloom dates extracted from the data are',abd)\n",
    "print('The predicted Bloom Dates values using Tmean',pbd)\n",
    "\n",
    "#calculating R^2 value\n",
    "rscoremean=metrics.r2_score(abd,pbd)\n",
    "print('The R\\u00b2 value using Tmean is:',rscoremean)\n",
    "\n",
    "#Using the 600 rule\n",
    "pbd=[]\n",
    "abd=[]\n",
    "for i in [1966,1971,1985,1994,2008]:\n",
    "    df2=df.loc[df['year'] == i]\n",
    "    df2.index=range(len(df2))\n",
    "    j=31\n",
    "    tsum=0\n",
    "    bdi=df2.loc[df2['bloom'].isin([1])].index.tolist()\n",
    "    abd.append(bdi[0]+1)\n",
    "    while tsum<=600:\n",
    "        tsum=tsum+df2.iloc[j,10]\n",
    "        j=j+1\n",
    "    pbd.append(j)\n",
    "print('The predicted Bloom Dates values using 600\\N{DEGREE SIGN}C ',pbd)\n",
    "\n",
    "\n",
    "#calculating R^2 value\n",
    "rscore600=metrics.r2_score(abd,pbd)\n",
    "print('The R\\u00b2 value using 600\\N{DEGREE SIGN}C rule is:',rscore600)"
   ]
  },
  {
   "cell_type": "code",
   "execution_count": null,
   "metadata": {
    "collapsed": true
   },
   "outputs": [],
   "source": []
  }
 ],
 "metadata": {
  "kernelspec": {
   "display_name": "Python 3",
   "language": "python",
   "name": "python3"
  },
  "language_info": {
   "codemirror_mode": {
    "name": "ipython",
    "version": 3
   },
   "file_extension": ".py",
   "mimetype": "text/x-python",
   "name": "python",
   "nbconvert_exporter": "python",
   "pygments_lexer": "ipython3",
   "version": "3.6.3"
  }
 },
 "nbformat": 4,
 "nbformat_minor": 2
}
