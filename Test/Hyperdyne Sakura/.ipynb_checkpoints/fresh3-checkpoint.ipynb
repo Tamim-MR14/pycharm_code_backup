{
 "cells": [
  {
   "cell_type": "code",
   "execution_count": 12,
   "metadata": {},
   "outputs": [
    {
     "name": "stdout",
     "output_type": "stream",
     "text": [
      "[  91.   91.   91.   93.   92.   89.   89.   96.   97.   88.   90.   92.\n",
      "   88.   82.   81.   90.   82.   91.   85.   82.   90.  102.   93.   82.\n",
      "   93.   79.   79.   89.   84.   83.   90.   91.   80.   86.   83.   90.\n",
      "   82.   75.   86.   78.   90.   80.   79.   80.   81.   87.   91.   75.\n",
      "   84.   82.   81.   80.]\n",
      "[ 79.  89.  93.  90.  82.]\n",
      "0.854400148658\n",
      "[81, 88, 89, 90, 81]\n",
      "0.839650145773\n"
     ]
    }
   ],
   "source": [
    "import pandas as pd\n",
    "import numpy as np\n",
    "import matplotlib.pyplot as plt\n",
    "from sklearn import preprocessing\n",
    "from sklearn import metrics\n",
    "from sklearn.neural_network import MLPRegressor\n",
    "training=[]\n",
    "test=[]\n",
    "df=pd.read_csv(\"modified tokyo.csv\")\n",
    "k=0\n",
    "m=0\n",
    "for i in range(1961,2018):\n",
    "\n",
    "    bdi=df.loc[(df['year'] == i) & df['bloom'].isin([1])].index.tolist()\n",
    "    df2=df.loc[(df['year'] == i) & (df['serial']<=bdi[0])]\n",
    "    df2.index=range(len(df2))\n",
    "    \n",
    "    if i in [1966,1971,1985,1994,2008]:\n",
    "        test.append([])\n",
    "        for j in [12,13]:\n",
    "            test[k].append(df2.iloc[:,j].mean())\n",
    "        for j in [9,14]:\n",
    "            test[k].append(df2.iloc[:,j].sum())\n",
    "        test[k].append(len(df2))\n",
    "        k+=1\n",
    "        continue\n",
    "\n",
    "    training.append([])\n",
    "    for j in [12,13]:\n",
    "        training[m].append(df2.iloc[:,j].mean())\n",
    "    for j in [9,14]:\n",
    "        training[m].append(df2.iloc[:,j].sum())\n",
    "    training[m].append(len(df2))\n",
    "    m+=1\n",
    "\n",
    "\n",
    "#print(test)\n",
    "#print(len(test),len(test[0]))\n",
    "#print(len(df2))\n",
    "#print(training)\n",
    "#print(len(training),len(training[0]))\n",
    "#print(df2)\n",
    "X_train=np.array(training)[:,:4]\n",
    "Y_train=np.array(training)[:,-1:].ravel()\n",
    "print(Y_train)\n",
    "#print(X_train)\n",
    "#print(len(X_train),len(X_train[0]))\n",
    "#print(Y_train)\n",
    "#print(len(Y_train),len(Y_train[0]))\n",
    "\n",
    "X_test=np.array(test)[:,:4]\n",
    "Y_test=np.array(test)[:,-1:].ravel()\n",
    "print(Y_test)\n",
    "#print(X_test)\n",
    "#print(len(X_test),len(X_test[0]))\n",
    "#print(Y_train)\n",
    "#print(len(Y_test),len(Y_test[0]))\n",
    "out=0\n",
    "Y_pred=[0,0,0,0,0]\n",
    "for i in range(50):\n",
    "    clf=MLPRegressor(hidden_layer_sizes=(50,50),activation='identity', solver='lbfgs',max_iter=200)\n",
    "    clf=clf.fit(X_train,Y_train)\n",
    "    Y=clf.predict(X_test)\n",
    "    Y_pred=[x + y for x, y in zip(Y_pred, Y)]\n",
    "    out=out+clf.score(X_test,Y_test)\n",
    "print(out/30)\n",
    "Y_pred=[int(round(i/30)) for i in Y_pred]\n",
    "print(Y_pred)\n",
    "print(metrics.r2_score(Y_test,Y_pred))"
   ]
  },
  {
   "cell_type": "code",
   "execution_count": null,
   "metadata": {
    "collapsed": true
   },
   "outputs": [],
   "source": []
  },
  {
   "cell_type": "code",
   "execution_count": null,
   "metadata": {
    "collapsed": true
   },
   "outputs": [],
   "source": []
  }
 ],
 "metadata": {
  "kernelspec": {
   "display_name": "Python 3",
   "language": "python",
   "name": "python3"
  },
  "language_info": {
   "codemirror_mode": {
    "name": "ipython",
    "version": 3
   },
   "file_extension": ".py",
   "mimetype": "text/x-python",
   "name": "python",
   "nbconvert_exporter": "python",
   "pygments_lexer": "ipython3",
   "version": "3.6.1"
  }
 },
 "nbformat": 4,
 "nbformat_minor": 2
}
