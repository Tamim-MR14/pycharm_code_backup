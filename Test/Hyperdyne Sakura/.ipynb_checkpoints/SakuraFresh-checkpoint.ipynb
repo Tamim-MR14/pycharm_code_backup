{
 "cells": [
  {
   "cell_type": "code",
   "execution_count": 1,
   "metadata": {
    "collapsed": true
   },
   "outputs": [],
   "source": [
    "import pandas as pd\n",
    "import numpy as np\n",
    "from pandas import ExcelWriter\n",
    "\n",
    "writer = pd.ExcelWriter('sakuraYears.xlsx', engine='xlsxwriter')\n",
    "x=0\n",
    "total = pd.read_excel(\"sakuraBloom.xlsx\")\n",
    "for i in range(1961,1964):\n",
    "    \n",
    "    df=total.iloc[x:x+365]  \n",
    "    df.to_excel(writer, sheet_name=str(i),index=False)\n",
    "    \n",
    "    x=x+365\n",
    "writer.save()"
   ]
  },
  {
   "cell_type": "code",
   "execution_count": 4,
   "metadata": {},
   "outputs": [
    {
     "name": "stdout",
     "output_type": "stream",
     "text": [
      "False\n",
      "True\n"
     ]
    }
   ],
   "source": [
    "def leapYear(y):\n",
    "    if y % 400 == 0:\n",
    "        return True\n",
    "    if y % 100 == 0:\n",
    "        return False\n",
    "    if y % 4 == 0:\n",
    "        return True\n",
    "    else:\n",
    "        return False\n",
    "print(leapYear(1900))\n",
    "print(leapYear(2004))\n"
   ]
  },
  {
   "cell_type": "code",
   "execution_count": 12,
   "metadata": {},
   "outputs": [
    {
     "data": {
      "text/plain": [
       "True"
      ]
     },
     "execution_count": 12,
     "metadata": {},
     "output_type": "execute_result"
    }
   ],
   "source": [
    "leapYear(2000)"
   ]
  },
  {
   "cell_type": "code",
   "execution_count": 35,
   "metadata": {
    "collapsed": true
   },
   "outputs": [
    {
     "ename": "PermissionError",
     "evalue": "[Errno 13] Permission denied: 'sakuraYears.xlsx'",
     "output_type": "error",
     "traceback": [
      "\u001b[1;31m---------------------------------------------------------------------------\u001b[0m",
      "\u001b[1;31mPermissionError\u001b[0m                           Traceback (most recent call last)",
      "\u001b[1;32m<ipython-input-35-712605c112b2>\u001b[0m in \u001b[0;36m<module>\u001b[1;34m()\u001b[0m\n\u001b[0;32m     19\u001b[0m \u001b[1;33m\u001b[0m\u001b[0m\n\u001b[0;32m     20\u001b[0m         \u001b[0mx\u001b[0m\u001b[1;33m=\u001b[0m\u001b[0mx\u001b[0m\u001b[1;33m+\u001b[0m\u001b[1;36m366\u001b[0m\u001b[1;33m\u001b[0m\u001b[0m\n\u001b[1;32m---> 21\u001b[1;33m \u001b[0mwriter\u001b[0m\u001b[1;33m.\u001b[0m\u001b[0msave\u001b[0m\u001b[1;33m(\u001b[0m\u001b[1;33m)\u001b[0m\u001b[1;33m\u001b[0m\u001b[0m\n\u001b[0m",
      "\u001b[1;32mC:\\ProgramData\\Anaconda3\\lib\\site-packages\\pandas\\io\\excel.py\u001b[0m in \u001b[0;36msave\u001b[1;34m(self)\u001b[0m\n\u001b[0;32m   1552\u001b[0m         \"\"\"\n\u001b[0;32m   1553\u001b[0m \u001b[1;33m\u001b[0m\u001b[0m\n\u001b[1;32m-> 1554\u001b[1;33m         \u001b[1;32mreturn\u001b[0m \u001b[0mself\u001b[0m\u001b[1;33m.\u001b[0m\u001b[0mbook\u001b[0m\u001b[1;33m.\u001b[0m\u001b[0mclose\u001b[0m\u001b[1;33m(\u001b[0m\u001b[1;33m)\u001b[0m\u001b[1;33m\u001b[0m\u001b[0m\n\u001b[0m\u001b[0;32m   1555\u001b[0m \u001b[1;33m\u001b[0m\u001b[0m\n\u001b[0;32m   1556\u001b[0m     def write_cells(self, cells, sheet_name=None, startrow=0, startcol=0,\n",
      "\u001b[1;32mC:\\ProgramData\\Anaconda3\\lib\\site-packages\\xlsxwriter\\workbook.py\u001b[0m in \u001b[0;36mclose\u001b[1;34m(self)\u001b[0m\n\u001b[0;32m    309\u001b[0m         \u001b[1;32mif\u001b[0m \u001b[1;32mnot\u001b[0m \u001b[0mself\u001b[0m\u001b[1;33m.\u001b[0m\u001b[0mfileclosed\u001b[0m\u001b[1;33m:\u001b[0m\u001b[1;33m\u001b[0m\u001b[0m\n\u001b[0;32m    310\u001b[0m             \u001b[0mself\u001b[0m\u001b[1;33m.\u001b[0m\u001b[0mfileclosed\u001b[0m \u001b[1;33m=\u001b[0m \u001b[1;36m1\u001b[0m\u001b[1;33m\u001b[0m\u001b[0m\n\u001b[1;32m--> 311\u001b[1;33m             \u001b[0mself\u001b[0m\u001b[1;33m.\u001b[0m\u001b[0m_store_workbook\u001b[0m\u001b[1;33m(\u001b[0m\u001b[1;33m)\u001b[0m\u001b[1;33m\u001b[0m\u001b[0m\n\u001b[0m\u001b[0;32m    312\u001b[0m \u001b[1;33m\u001b[0m\u001b[0m\n\u001b[0;32m    313\u001b[0m     \u001b[1;32mdef\u001b[0m \u001b[0mset_size\u001b[0m\u001b[1;33m(\u001b[0m\u001b[0mself\u001b[0m\u001b[1;33m,\u001b[0m \u001b[0mwidth\u001b[0m\u001b[1;33m,\u001b[0m \u001b[0mheight\u001b[0m\u001b[1;33m)\u001b[0m\u001b[1;33m:\u001b[0m\u001b[1;33m\u001b[0m\u001b[0m\n",
      "\u001b[1;32mC:\\ProgramData\\Anaconda3\\lib\\site-packages\\xlsxwriter\\workbook.py\u001b[0m in \u001b[0;36m_store_workbook\u001b[1;34m(self)\u001b[0m\n\u001b[0;32m    623\u001b[0m \u001b[1;33m\u001b[0m\u001b[0m\n\u001b[0;32m    624\u001b[0m         xlsx_file = ZipFile(self.filename, \"w\", compression=ZIP_DEFLATED,\n\u001b[1;32m--> 625\u001b[1;33m                             allowZip64=self.allow_zip64)\n\u001b[0m\u001b[0;32m    626\u001b[0m \u001b[1;33m\u001b[0m\u001b[0m\n\u001b[0;32m    627\u001b[0m         \u001b[1;31m# Add XML sub-files to the Zip file with their Excel filename.\u001b[0m\u001b[1;33m\u001b[0m\u001b[1;33m\u001b[0m\u001b[0m\n",
      "\u001b[1;32mC:\\ProgramData\\Anaconda3\\lib\\zipfile.py\u001b[0m in \u001b[0;36m__init__\u001b[1;34m(self, file, mode, compression, allowZip64)\u001b[0m\n\u001b[0;32m   1088\u001b[0m             \u001b[1;32mwhile\u001b[0m \u001b[1;32mTrue\u001b[0m\u001b[1;33m:\u001b[0m\u001b[1;33m\u001b[0m\u001b[0m\n\u001b[0;32m   1089\u001b[0m                 \u001b[1;32mtry\u001b[0m\u001b[1;33m:\u001b[0m\u001b[1;33m\u001b[0m\u001b[0m\n\u001b[1;32m-> 1090\u001b[1;33m                     \u001b[0mself\u001b[0m\u001b[1;33m.\u001b[0m\u001b[0mfp\u001b[0m \u001b[1;33m=\u001b[0m \u001b[0mio\u001b[0m\u001b[1;33m.\u001b[0m\u001b[0mopen\u001b[0m\u001b[1;33m(\u001b[0m\u001b[0mfile\u001b[0m\u001b[1;33m,\u001b[0m \u001b[0mfilemode\u001b[0m\u001b[1;33m)\u001b[0m\u001b[1;33m\u001b[0m\u001b[0m\n\u001b[0m\u001b[0;32m   1091\u001b[0m                 \u001b[1;32mexcept\u001b[0m \u001b[0mOSError\u001b[0m\u001b[1;33m:\u001b[0m\u001b[1;33m\u001b[0m\u001b[0m\n\u001b[0;32m   1092\u001b[0m                     \u001b[1;32mif\u001b[0m \u001b[0mfilemode\u001b[0m \u001b[1;32min\u001b[0m \u001b[0mmodeDict\u001b[0m\u001b[1;33m:\u001b[0m\u001b[1;33m\u001b[0m\u001b[0m\n",
      "\u001b[1;31mPermissionError\u001b[0m: [Errno 13] Permission denied: 'sakuraYears.xlsx'"
     ]
    }
   ],
   "source": [
    "import pandas as pd\n",
    "import numpy as np\n",
    "from pandas import ExcelWriter\n",
    "\n",
    "writer = pd.ExcelWriter('sakuraYears.xlsx', engine='xlsxwriter')\n",
    "#excelWriter ke jotobar ghoshona kora hobe totobar notun kore shuru hobe\n",
    "#so excelwriter bar bar lekha jabe na.... \n",
    "x=0\n",
    "total = pd.read_excel(\"sakuraBloom.xlsx\")\n",
    "for i in range(1961,2018):\n",
    "    if leapYear(i)==0:\n",
    "        df=total.iloc[x:x+365]  \n",
    "        df.to_excel(writer, sheet_name=str(i),index=False)\n",
    "\n",
    "        x=x+365\n",
    "    else:\n",
    "        df=total.iloc[x:x+366]  \n",
    "        df.to_excel(writer, sheet_name=str(i),index=False)\n",
    "\n",
    "        x=x+366\n",
    "writer.save()"
   ]
  },
  {
   "cell_type": "code",
   "execution_count": 43,
   "metadata": {},
   "outputs": [
    {
     "data": {
      "text/plain": [
       "[721.0,\n",
       " 768.10000000000002,\n",
       " 701.70000000000005,\n",
       " 676.60000000000002,\n",
       " 642.20000000000005,\n",
       " 607.60000000000002,\n",
       " 660.79999999999995,\n",
       " 654.60000000000002,\n",
       " 724.0,\n",
       " 696.29999999999995,\n",
       " 663.39999999999998,\n",
       " 610.39999999999998,\n",
       " 705.29999999999995,\n",
       " 658.0,\n",
       " 607.89999999999998,\n",
       " 596.70000000000005,\n",
       " 556.70000000000005,\n",
       " 640.10000000000002,\n",
       " 631.79999999999995,\n",
       " 640.60000000000002,\n",
       " 600.10000000000002,\n",
       " 581.5,\n",
       " 662.5,\n",
       " 612.29999999999995,\n",
       " 677.79999999999995,\n",
       " 627.5,\n",
       " 588.70000000000005,\n",
       " 649.70000000000005,\n",
       " 583.10000000000002,\n",
       " 573.60000000000002,\n",
       " 688.20000000000005,\n",
       " 615.5,\n",
       " 612.89999999999998,\n",
       " 656.60000000000002,\n",
       " 684.60000000000002,\n",
       " 680.10000000000002,\n",
       " 614.60000000000002,\n",
       " 679.20000000000005,\n",
       " 642.70000000000005,\n",
       " 689.70000000000005,\n",
       " 627.10000000000002,\n",
       " 591.70000000000005,\n",
       " 603.70000000000005,\n",
       " 627.89999999999998,\n",
       " 683.89999999999998,\n",
       " 577.20000000000005,\n",
       " 621.79999999999995,\n",
       " 596.70000000000005,\n",
       " 616.60000000000002,\n",
       " 587.10000000000002,\n",
       " 646.10000000000002,\n",
       " 652.60000000000002,\n",
       " 550.60000000000002,\n",
       " 607.60000000000002,\n",
       " 617.89999999999998,\n",
       " 652.5,\n",
       " 619.5]"
      ]
     },
     "execution_count": 43,
     "metadata": {},
     "output_type": "execute_result"
    }
   ],
   "source": [
    "totalArray=[]\n",
    "for year in range(1961,2018):\n",
    "    df = pd.read_excel('sakuraYears.xlsx', sheetname=str(year))\n",
    "    for j in range(31,100): #df e 31 mane data file e 33\n",
    "        if df[\"bloom\"][j]==1:\n",
    "            break\n",
    "    j\n",
    "    #ja ashbe tar dui ghor pore paoa jabe\n",
    "    #karon 0 ~ 1 e kono data nai\n",
    "    #j=96 mane data file e 98\n",
    "    sum=0\n",
    "    for i in range(31,j+1):\n",
    "        sum=sum+df[\"max temp\"][i]\n",
    "    totalArray.append(round(sum,2))\n",
    "totalArray"
   ]
  },
  {
   "cell_type": "code",
   "execution_count": 28,
   "metadata": {
    "scrolled": true
   },
   "outputs": [
    {
     "data": {
      "text/html": [
       "<div>\n",
       "<style>\n",
       "    .dataframe thead tr:only-child th {\n",
       "        text-align: right;\n",
       "    }\n",
       "\n",
       "    .dataframe thead th {\n",
       "        text-align: left;\n",
       "    }\n",
       "\n",
       "    .dataframe tbody tr th {\n",
       "        vertical-align: top;\n",
       "    }\n",
       "</style>\n",
       "<table border=\"1\" class=\"dataframe\">\n",
       "  <thead>\n",
       "    <tr style=\"text-align: right;\">\n",
       "      <th></th>\n",
       "      <th>serial</th>\n",
       "      <th>year</th>\n",
       "      <th>month</th>\n",
       "      <th>day</th>\n",
       "      <th>local pressure</th>\n",
       "      <th>sea pressure</th>\n",
       "      <th>total preci</th>\n",
       "      <th>hr1 preci</th>\n",
       "      <th>min10 preci</th>\n",
       "      <th>avg temp</th>\n",
       "      <th>max temp</th>\n",
       "      <th>min temp</th>\n",
       "      <th>avg humid</th>\n",
       "      <th>min humid</th>\n",
       "      <th>sun hours</th>\n",
       "      <th>bloom</th>\n",
       "    </tr>\n",
       "  </thead>\n",
       "  <tbody>\n",
       "  </tbody>\n",
       "</table>\n",
       "</div>"
      ],
      "text/plain": [
       "Empty DataFrame\n",
       "Columns: [serial, year, month, day, local pressure, sea pressure, total preci, hr1 preci, min10 preci, avg temp, max temp, min temp, avg humid, min humid, sun hours, bloom]\n",
       "Index: []"
      ]
     },
     "execution_count": 28,
     "metadata": {},
     "output_type": "execute_result"
    }
   ],
   "source": [
    "df.head(0)"
   ]
  },
  {
   "cell_type": "code",
   "execution_count": 46,
   "metadata": {},
   "outputs": [
    {
     "data": {
      "image/png": "[encoded data removed]",
      "text/plain": [
       "<matplotlib.figure.Figure at 0x2291bd4ed30>"
      ]
     },
     "metadata": {},
     "output_type": "display_data"
    }
   ],
   "source": [
    "import matplotlib.pyplot as plt\n",
    "import numpy as np\n",
    "plt.plot(np.arange(1961,2018), totalArray , 'ro')\n",
    "\n",
    "plt.axis([1961, 2018, 0, 1000])\n",
    "\n",
    "plt.show()"
   ]
  },
  {
   "cell_type": "code",
   "execution_count": null,
   "metadata": {
    "collapsed": true
   },
   "outputs": [],
   "source": []
  }
 ],
 "metadata": {
  "kernelspec": {
   "display_name": "Python 3",
   "language": "python",
   "name": "python3"
  },
  "language_info": {
   "codemirror_mode": {
    "name": "ipython",
    "version": 3
   },
   "file_extension": ".py",
   "mimetype": "text/x-python",
   "name": "python",
   "nbconvert_exporter": "python",
   "pygments_lexer": "ipython3",
   "version": "3.6.1"
  }
 },
 "nbformat": 4,
 "nbformat_minor": 2
}
