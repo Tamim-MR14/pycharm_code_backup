{
 "cells": [
  {
   "cell_type": "code",
   "execution_count": 19,
   "metadata": {
    "collapsed": true
   },
   "outputs": [],
   "source": [
    "from sklearn.model_selection import train_test_split\n",
    "import pandas as pd\n",
    "from sklearn.feature_extraction.text import TfidfVectorizer\n",
    "from sklearn.naive_bayes import MultinomialNB\n",
    "from sklearn.neural_network import MLPClassifier\n",
    "from sklearn.tree import DecisionTreeClassifier\n",
    "from sklearn.neighbors import KNeighborsClassifier\n",
    "from sklearn import svm\n",
    "from sklearn.linear_model import Perceptron\n",
    "from sklearn.linear_model import LogisticRegression\n",
    "df=pd.read_csv('youtube01-Psy.csv')\n",
    "cols_drop=['COMMENT_ID', 'AUTHOR','DATE']\n",
    "df=df.drop(cols_drop,axis=1)\n"
   ]
  },
  {
   "cell_type": "code",
   "execution_count": 2,
   "metadata": {
    "collapsed": true
   },
   "outputs": [],
   "source": [
    "target=df['CLASS'].values\n",
    "data=df['CONTENT'].values\n",
    "X_train,X_test,Y_train,Y_test=train_test_split(data,target, test_size=0.2)"
   ]
  },
  {
   "cell_type": "code",
   "execution_count": 8,
   "metadata": {},
   "outputs": [
    {
     "name": "stdout",
     "output_type": "stream",
     "text": [
      "0.985714285714\n"
     ]
    }
   ],
   "source": [
    "tfidfVectorizer=TfidfVectorizer()\n",
    "X_train_tfidf=tfidfVectorizer.fit_transform(X_train)\n",
    "X_test_tfidf=tfidfVectorizer.transform(X_test)\n",
    "\n",
    "clf=MultinomialNB().fit(X_train_tfidf,Y_train)\n",
    "print(clf.score(X_test_tfidf,Y_test))\n"
   ]
  },
  {
   "cell_type": "code",
   "execution_count": 4,
   "metadata": {},
   "outputs": [
    {
     "name": "stdout",
     "output_type": "stream",
     "text": [
      "0.942857142857\n"
     ]
    }
   ],
   "source": [
    "ann=MLPClassifier(hidden_layer_sizes=(50,50),activation='relu', solver='lbfgs',max_iter=200)\n",
    "ann.fit(X_train_tfidf,Y_train)\n",
    "print(ann.score(X_test_tfidf,Y_test))"
   ]
  },
  {
   "cell_type": "code",
   "execution_count": 5,
   "metadata": {},
   "outputs": [
    {
     "name": "stdout",
     "output_type": "stream",
     "text": [
      "0.9\n"
     ]
    }
   ],
   "source": [
    "knn=KNeighborsClassifier(n_neighbors=5, leaf_size=30, p=2, n_jobs=1)\n",
    "knn.fit(X_train_tfidf,Y_train)\n",
    "print(knn.score(X_test_tfidf,Y_test))"
   ]
  },
  {
   "cell_type": "code",
   "execution_count": 6,
   "metadata": {},
   "outputs": [
    {
     "name": "stdout",
     "output_type": "stream",
     "text": [
      "0.857142857143\n"
     ]
    }
   ],
   "source": [
    "DT=DecisionTreeClassifier( )\n",
    "DT.fit(X_train_tfidf,Y_train)\n",
    "print(DT.score(X_test_tfidf,Y_test))"
   ]
  },
  {
   "cell_type": "code",
   "execution_count": 14,
   "metadata": {},
   "outputs": [
    {
     "name": "stdout",
     "output_type": "stream",
     "text": [
      "0.485714285714\n"
     ]
    }
   ],
   "source": [
    "clf = svm.SVC(kernel='poly')\n",
    "clf.fit(X_train_tfidf,Y_train)  \n",
    "print(clf.score(X_test_tfidf,Y_test))"
   ]
  },
  {
   "cell_type": "code",
   "execution_count": 17,
   "metadata": {},
   "outputs": [
    {
     "name": "stdout",
     "output_type": "stream",
     "text": [
      "0.914285714286\n"
     ]
    }
   ],
   "source": [
    "PT=Perceptron()\n",
    "PT.fit(X_train_tfidf,Y_train) \n",
    "print(PT.score(X_test_tfidf,Y_test))"
   ]
  },
  {
   "cell_type": "code",
   "execution_count": 20,
   "metadata": {},
   "outputs": [
    {
     "name": "stdout",
     "output_type": "stream",
     "text": [
      "0.957142857143\n"
     ]
    }
   ],
   "source": [
    "LG=LogisticRegression()\n",
    "LG.fit(X_train_tfidf,Y_train) \n",
    "print(LG.score(X_test_tfidf,Y_test))"
   ]
  },
  {
   "cell_type": "code",
   "execution_count": null,
   "metadata": {
    "collapsed": true
   },
   "outputs": [],
   "source": []
  }
 ],
 "metadata": {
  "kernelspec": {
   "display_name": "Python 3",
   "language": "python",
   "name": "python3"
  },
  "language_info": {
   "codemirror_mode": {
    "name": "ipython",
    "version": 3
   },
   "file_extension": ".py",
   "mimetype": "text/x-python",
   "name": "python",
   "nbconvert_exporter": "python",
   "pygments_lexer": "ipython3",
   "version": "3.6.1"
  }
 },
 "nbformat": 4,
 "nbformat_minor": 2
}
