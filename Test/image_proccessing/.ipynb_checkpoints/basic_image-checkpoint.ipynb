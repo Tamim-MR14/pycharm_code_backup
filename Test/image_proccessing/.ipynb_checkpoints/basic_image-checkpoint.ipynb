{
 "cells": [
  {
   "cell_type": "code",
   "execution_count": 2,
   "metadata": {
    "collapsed": true
   },
   "outputs": [],
   "source": [
    "import numpy as np\n",
    "import pandas as pd\n",
    "from PIL import Image"
   ]
  },
  {
   "cell_type": "code",
   "execution_count": 3,
   "metadata": {},
   "outputs": [
    {
     "name": "stdout",
     "output_type": "stream",
     "text": [
      "[[  0   0   0   0   0   0   0   0   0   4   0   7   0   3   1   3   0   0\n",
      "    3   2   8   0   0   0   0   0   0   0]\n",
      " [  0   0   0   0   0   0   0   0   0   0   2   1   9   4   4   0  12   0\n",
      "    0   0   0   2   8   4   0   0   0   0]\n",
      " [  0   0   0   0   0   0   0   0   0   7   0   0   0   9   7   0   3   0\n",
      "    0  19   0   6   6   0   0   0   0   0]\n",
      " [  0   0   0   0   0   0   0   0   5   3   0  16  10   0   0   9   0   0\n",
      "    1   3   0   0   6   2   0   0   0   0]\n",
      " [  0   0   0   0   0   0   0   0   0   0   0   0   0   4   7   0   0   5\n",
      "    4   0  10   4   0   0   0   0   0   0]\n",
      " [  0   0   0   0   0   0   0   0   0 114 255 255 233 152 142  96  28  25\n",
      "   10   0   0   5   5   3   0   0   0   0]\n",
      " [  0   0   0   0   0   0   0   0   0  19 142 251 255 252 255 250 255 237\n",
      "  181 122   0   0   0   1   0   0   0   0]\n",
      " [  0   0   0   0   0   0   0   0   0   3   0  28   0 119 195 226 245 254\n",
      "  250 226   6   1   4   4   0   0   0   0]\n",
      " [  0   0   0   0   0   0   0   0   0   0   0  13   5   0   0 106 237 232\n",
      "  252 247   0  16   0   7   0   0   0   0]\n",
      " [  0   0   0   0   0   0   0   0   0   7   6   0   0  49 170 243 255 250\n",
      "  210  15   7   0  12   0   0   0   0   0]\n",
      " [  0   0   0   0   0   0   0   0   0  10  55 190 200 212 255 253 194 107\n",
      "   13   0   7   4   0   2   0   0   0   0]\n",
      " [  0   0   0   0   0   0   0   0   4  68 243 246 255 235 193  76  30   0\n",
      "    0  20   0   0   8   0   0   0   0   0]\n",
      " [  0   0   0   0   0   0   0   0   3   0 184 252 250 240  33   3   0   9\n",
      "   16   0  11   0  11   0   0   0   0   0]\n",
      " [  0   0   0   0   0   0   0   0   1   1   3  72 218 248 239  94   6   9\n",
      "    0   0   8  11   0   3   0   0   0   0]\n",
      " [  0   0   0   0   0   0   0   0   5   0   2   0  55 240 255 237  71   0\n",
      "   19   0   0   0   7   1   0   0   0   0]\n",
      " [  0   0   0   0   0   0   0   0   0   1   0  10   0  64 216 255 246  39\n",
      "    0   9   8   7   0   0   0   0   0   0]\n",
      " [  0   0   0   0   0   0   0   0   0   0   6   0  10   0  53 242 255 118\n",
      "    0   0   2  10   0   5   0   0   0   0]\n",
      " [  0   0   0   0   0   0   0   0   9   0   5   0   0   4   2 218 254 188\n",
      "    9   1   3   0   7   0   0   0   0   0]\n",
      " [  0   0   0   0   0   0   0   0   4   7   0  10   7  10   0 130 255 255\n",
      "   49   5   1   0   1   0   0   0   0   0]\n",
      " [  0   0   0   0   0   0   0   0   0   6   3   0   0   0  12  37 249 255\n",
      "   83   0   0  18   0   4   0   0   0   0]\n",
      " [  0   0   0   0   0   0   0   0 118   0   4  13   8   2   0  54 250 252\n",
      "   78   0   0  19   0   7   0   0   0   0]\n",
      " [  0   0   0   0   0   0   0   0 199 193  44   0   7   0   0 224 255 227\n",
      "   53   0   1   0   5   0   0   0   0   0]\n",
      " [  0   0   0   0   0   0   0   0  83 243 255 198  81 127 216 249 239 132\n",
      "   21   1   7   0   6   0   0   0   0   0]\n",
      " [  0   0   0   0   0   0   0   0   0  98 239 255 245 255 254 255 175   9\n",
      "    0   0   3   3   0   6   0   0   0   0]\n",
      " [  0   0   0   0   0   0   0   0   2   4  53 163 255 255 157  48   0   0\n",
      "    0   0   0   0   0   0   0   0   0   0]\n",
      " [  0   0   0   0   0   0   0   0   0   0   0   1   0   0   0   4   0   0\n",
      "    0   0   0   0   0   0   0   0   0   0]\n",
      " [  0   0   0   0   0   0   0   0  12   7   1   0   0   0   2   5   0   0\n",
      "    0   0   0   0   0   0   0   0   0   0]\n",
      " [  0   0   0   0   0   0   0   0   0   0   0   1   4   3   0   0   0   0\n",
      "    0   0   0   0   0   0   0   0   0   0]]\n"
     ]
    },
    {
     "data": {
      "image/png": "[encoded data removed]",
      "text/plain": [
       "<matplotlib.figure.Figure at 0x1b8c857b978>"
      ]
     },
     "metadata": {},
     "output_type": "display_data"
    },
    {
     "data": {
      "text/plain": [
       "(784,)"
      ]
     },
     "execution_count": 3,
     "metadata": {},
     "output_type": "execute_result"
    }
   ],
   "source": [
    "import matplotlib.pyplot as plt\n",
    "im = np.array(Image.open('3.jpg'))\n",
    "im_norm=(im-im.min())/(im.max()-im.min())\n",
    "#print(im_norm)\n",
    "print(im)\n",
    "plt.imshow(im_norm,cmap='gray')\n",
    "plt.show()\n",
    "im_norm.flatten().shape\n"
   ]
  },
  {
   "cell_type": "code",
   "execution_count": 3,
   "metadata": {},
   "outputs": [
    {
     "data": {
      "text/plain": [
       "23.770408163265305"
      ]
     },
     "execution_count": 3,
     "metadata": {},
     "output_type": "execute_result"
    }
   ],
   "source": [
    "mean=im.mean(axis=0)\n",
    "p=mean[:14].mean()\n",
    "q=mean[14:].mean()\n",
    "p"
   ]
  },
  {
   "cell_type": "code",
   "execution_count": 5,
   "metadata": {},
   "outputs": [],
   "source": [
    "import os\n",
    "dirname='./trainingSample/'\n",
    "folders=os.listdir(dirname)\n",
    "data=[]\n",
    "label=[]\n",
    "\n",
    "# os.path.join(dirname,'0')\n",
    "for folder in folders:\n",
    "    folder_path=os.path.join(dirname,folder)\n",
    "    for img in os.listdir(folder_path):\n",
    "        img_path=os.path.join(folder_path,img)\n",
    "        data+=[np.array(Image.open(img_path)).flatten()]\n",
    "        label+=[int(folder)]\n",
    "\n"
   ]
  },
  {
   "cell_type": "code",
   "execution_count": 6,
   "metadata": {},
   "outputs": [
    {
     "name": "stdout",
     "output_type": "stream",
     "text": [
      "0.683333333333\n"
     ]
    }
   ],
   "source": [
    "from sklearn.model_selection import train_test_split\n",
    "from sklearn.neural_network import MLPClassifier\n",
    "data=np.array(data)\n",
    "label=np.array(label)\n",
    "\n",
    "X_train,X_test,Y_train,Y_test=train_test_split(data,label,test_size=0.2)\n",
    "\n",
    "clf =MLPClassifier(hidden_layer_sizes=(700,500,400),activation='identity',solver='lbfgs')\n",
    "\n",
    "clf = clf.fit(X_train, Y_train)\n",
    "tr_total=clf.score(X_train,Y_train)\n",
    "score=clf.score(X_test,Y_test)\n",
    "\n",
    "\n",
    "print(score)"
   ]
  },
  {
   "cell_type": "code",
   "execution_count": 77,
   "metadata": {},
   "outputs": [
    {
     "data": {
      "text/plain": [
       "array([ 2.,  3.,  4.,  2.,  3.,  4.])"
      ]
     },
     "execution_count": 77,
     "metadata": {},
     "output_type": "execute_result"
    }
   ],
   "source": [
    "a=np.array([])\n",
    "a=np.append([a],[[2,3,4]])\n",
    "a=np.append([a],[[2,3,4]])\n",
    "a\n"
   ]
  },
  {
   "cell_type": "code",
   "execution_count": 88,
   "metadata": {},
   "outputs": [
    {
     "data": {
      "text/plain": [
       "0"
      ]
     },
     "execution_count": 88,
     "metadata": {},
     "output_type": "execute_result"
    }
   ],
   "source": [
    "int('0')"
   ]
  },
  {
   "cell_type": "code",
   "execution_count": null,
   "metadata": {
    "collapsed": true
   },
   "outputs": [],
   "source": []
  }
 ],
 "metadata": {
  "kernelspec": {
   "display_name": "Python 3",
   "language": "python",
   "name": "python3"
  },
  "language_info": {
   "codemirror_mode": {
    "name": "ipython",
    "version": 3
   },
   "file_extension": ".py",
   "mimetype": "text/x-python",
   "name": "python",
   "nbconvert_exporter": "python",
   "pygments_lexer": "ipython3",
   "version": "3.6.1"
  }
 },
 "nbformat": 4,
 "nbformat_minor": 2
}
